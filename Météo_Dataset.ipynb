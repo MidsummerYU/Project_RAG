{
  "nbformat": 4,
  "nbformat_minor": 0,
  "metadata": {
    "colab": {
      "provenance": [],
      "authorship_tag": "ABX9TyNhlhvcnWce/y0O8YocO/91",
      "include_colab_link": true
    },
    "kernelspec": {
      "name": "python3",
      "display_name": "Python 3"
    },
    "language_info": {
      "name": "python"
    }
  },
  "cells": [
    {
      "cell_type": "markdown",
      "metadata": {
        "id": "view-in-github",
        "colab_type": "text"
      },
      "source": [
        "<a href=\"https://colab.research.google.com/github/MidsummerYU/Project_RAG/blob/main/M%C3%A9t%C3%A9o_Dataset.ipynb\" target=\"_parent\"><img src=\"https://colab.research.google.com/assets/colab-badge.svg\" alt=\"Open In Colab\"/></a>"
      ]
    },
    {
      "cell_type": "code",
      "execution_count": 2,
      "metadata": {
        "colab": {
          "base_uri": "https://localhost:8080/",
          "height": 463
        },
        "id": "PaDAU6hIBv1K",
        "outputId": "c10087b8-aa66-4c43-c8f5-ca8904c8a27b"
      },
      "outputs": [
        {
          "output_type": "stream",
          "name": "stdout",
          "text": [
            "#### EXPORT DONNEES METEO POUR \"BORDEAUX\" (LAT/LON: 44.837789/-0.57918)\n",
            "\n",
            "#### DONNEES PROVENANT DE WWW.HISTORIQUE-METEO.NET - UTILISATION LIBRE A CONDITION DE MENTIONNER LEUR PROVENANCE\n",
            "\n",
            "#### DOC POUR LES WEATHER CODES : https://www.historique-meteo.net/weathercodes.txt\n",
            "\n",
            "DATE,MAX_TEMPERATURE_C,MIN_TEMPERATURE_C,WINDSPEED_MAX_KMH,TEMPERATURE_MORNING_C,TEMPERATURE_NOON_C,TEMPERATURE_EVENING_C,PRECIP_TOTAL_DAY_MM,HUMIDITY_MAX_PERCENT,VISIBILITY_AVG_KM,PRESSURE_MAX_MB,CLOUDCOVER_AVG_PERCENT,HEATINDEX_MAX_C,DEWPOINT_MAX_C,WINDTEMP_MAX_C,WEATHER_CODE_MORNING,WEATHER_CODE_NOON,WEATHER_CODE_EVENING,TOTAL_SNOW_MM,UV_INDEX,SUNHOUR,OPINION,SUNSET,SUNRISE,TEMPERATURE_NIGHT_C\n",
            "\n",
            "2024-01-01,9,6,10,7,8,8,0.4,95,7,1020,75,9,8,5,176,143,116,0,2,1,météo défavorable,17:32:00,08:40:00,6\n",
            "\n"
          ]
        },
        {
          "output_type": "error",
          "ename": "ParserError",
          "evalue": "Error tokenizing data. C error: Expected 1 fields in line 4, saw 25\n",
          "traceback": [
            "\u001b[0;31m---------------------------------------------------------------------------\u001b[0m",
            "\u001b[0;31mParserError\u001b[0m                               Traceback (most recent call last)",
            "\u001b[0;32m<ipython-input-2-f08f11dcde43>\u001b[0m in \u001b[0;36m<cell line: 12>\u001b[0;34m()\u001b[0m\n\u001b[1;32m     10\u001b[0m \u001b[0;34m\u001b[0m\u001b[0m\n\u001b[1;32m     11\u001b[0m \u001b[0;31m# Read the CSV file with comma as the delimiter\u001b[0m\u001b[0;34m\u001b[0m\u001b[0;34m\u001b[0m\u001b[0m\n\u001b[0;32m---> 12\u001b[0;31m \u001b[0mdf\u001b[0m \u001b[0;34m=\u001b[0m \u001b[0mpd\u001b[0m\u001b[0;34m.\u001b[0m\u001b[0mread_csv\u001b[0m\u001b[0;34m(\u001b[0m\u001b[0mfile_path\u001b[0m\u001b[0;34m,\u001b[0m \u001b[0msep\u001b[0m\u001b[0;34m=\u001b[0m\u001b[0;34m','\u001b[0m\u001b[0;34m)\u001b[0m\u001b[0;34m\u001b[0m\u001b[0;34m\u001b[0m\u001b[0m\n\u001b[0m\u001b[1;32m     13\u001b[0m \u001b[0;34m\u001b[0m\u001b[0m\n\u001b[1;32m     14\u001b[0m \u001b[0;31m# Display the first few rows of the DataFrame\u001b[0m\u001b[0;34m\u001b[0m\u001b[0;34m\u001b[0m\u001b[0m\n",
            "\u001b[0;32m/usr/local/lib/python3.10/dist-packages/pandas/util/_decorators.py\u001b[0m in \u001b[0;36mwrapper\u001b[0;34m(*args, **kwargs)\u001b[0m\n\u001b[1;32m    209\u001b[0m                 \u001b[0;32melse\u001b[0m\u001b[0;34m:\u001b[0m\u001b[0;34m\u001b[0m\u001b[0;34m\u001b[0m\u001b[0m\n\u001b[1;32m    210\u001b[0m                     \u001b[0mkwargs\u001b[0m\u001b[0;34m[\u001b[0m\u001b[0mnew_arg_name\u001b[0m\u001b[0;34m]\u001b[0m \u001b[0;34m=\u001b[0m \u001b[0mnew_arg_value\u001b[0m\u001b[0;34m\u001b[0m\u001b[0;34m\u001b[0m\u001b[0m\n\u001b[0;32m--> 211\u001b[0;31m             \u001b[0;32mreturn\u001b[0m \u001b[0mfunc\u001b[0m\u001b[0;34m(\u001b[0m\u001b[0;34m*\u001b[0m\u001b[0margs\u001b[0m\u001b[0;34m,\u001b[0m \u001b[0;34m**\u001b[0m\u001b[0mkwargs\u001b[0m\u001b[0;34m)\u001b[0m\u001b[0;34m\u001b[0m\u001b[0;34m\u001b[0m\u001b[0m\n\u001b[0m\u001b[1;32m    212\u001b[0m \u001b[0;34m\u001b[0m\u001b[0m\n\u001b[1;32m    213\u001b[0m         \u001b[0;32mreturn\u001b[0m \u001b[0mcast\u001b[0m\u001b[0;34m(\u001b[0m\u001b[0mF\u001b[0m\u001b[0;34m,\u001b[0m \u001b[0mwrapper\u001b[0m\u001b[0;34m)\u001b[0m\u001b[0;34m\u001b[0m\u001b[0;34m\u001b[0m\u001b[0m\n",
            "\u001b[0;32m/usr/local/lib/python3.10/dist-packages/pandas/util/_decorators.py\u001b[0m in \u001b[0;36mwrapper\u001b[0;34m(*args, **kwargs)\u001b[0m\n\u001b[1;32m    329\u001b[0m                     \u001b[0mstacklevel\u001b[0m\u001b[0;34m=\u001b[0m\u001b[0mfind_stack_level\u001b[0m\u001b[0;34m(\u001b[0m\u001b[0;34m)\u001b[0m\u001b[0;34m,\u001b[0m\u001b[0;34m\u001b[0m\u001b[0;34m\u001b[0m\u001b[0m\n\u001b[1;32m    330\u001b[0m                 )\n\u001b[0;32m--> 331\u001b[0;31m             \u001b[0;32mreturn\u001b[0m \u001b[0mfunc\u001b[0m\u001b[0;34m(\u001b[0m\u001b[0;34m*\u001b[0m\u001b[0margs\u001b[0m\u001b[0;34m,\u001b[0m \u001b[0;34m**\u001b[0m\u001b[0mkwargs\u001b[0m\u001b[0;34m)\u001b[0m\u001b[0;34m\u001b[0m\u001b[0;34m\u001b[0m\u001b[0m\n\u001b[0m\u001b[1;32m    332\u001b[0m \u001b[0;34m\u001b[0m\u001b[0m\n\u001b[1;32m    333\u001b[0m         \u001b[0;31m# error: \"Callable[[VarArg(Any), KwArg(Any)], Any]\" has no\u001b[0m\u001b[0;34m\u001b[0m\u001b[0;34m\u001b[0m\u001b[0m\n",
            "\u001b[0;32m/usr/local/lib/python3.10/dist-packages/pandas/io/parsers/readers.py\u001b[0m in \u001b[0;36mread_csv\u001b[0;34m(filepath_or_buffer, sep, delimiter, header, names, index_col, usecols, squeeze, prefix, mangle_dupe_cols, dtype, engine, converters, true_values, false_values, skipinitialspace, skiprows, skipfooter, nrows, na_values, keep_default_na, na_filter, verbose, skip_blank_lines, parse_dates, infer_datetime_format, keep_date_col, date_parser, dayfirst, cache_dates, iterator, chunksize, compression, thousands, decimal, lineterminator, quotechar, quoting, doublequote, escapechar, comment, encoding, encoding_errors, dialect, error_bad_lines, warn_bad_lines, on_bad_lines, delim_whitespace, low_memory, memory_map, float_precision, storage_options)\u001b[0m\n\u001b[1;32m    948\u001b[0m     \u001b[0mkwds\u001b[0m\u001b[0;34m.\u001b[0m\u001b[0mupdate\u001b[0m\u001b[0;34m(\u001b[0m\u001b[0mkwds_defaults\u001b[0m\u001b[0;34m)\u001b[0m\u001b[0;34m\u001b[0m\u001b[0;34m\u001b[0m\u001b[0m\n\u001b[1;32m    949\u001b[0m \u001b[0;34m\u001b[0m\u001b[0m\n\u001b[0;32m--> 950\u001b[0;31m     \u001b[0;32mreturn\u001b[0m \u001b[0m_read\u001b[0m\u001b[0;34m(\u001b[0m\u001b[0mfilepath_or_buffer\u001b[0m\u001b[0;34m,\u001b[0m \u001b[0mkwds\u001b[0m\u001b[0;34m)\u001b[0m\u001b[0;34m\u001b[0m\u001b[0;34m\u001b[0m\u001b[0m\n\u001b[0m\u001b[1;32m    951\u001b[0m \u001b[0;34m\u001b[0m\u001b[0m\n\u001b[1;32m    952\u001b[0m \u001b[0;34m\u001b[0m\u001b[0m\n",
            "\u001b[0;32m/usr/local/lib/python3.10/dist-packages/pandas/io/parsers/readers.py\u001b[0m in \u001b[0;36m_read\u001b[0;34m(filepath_or_buffer, kwds)\u001b[0m\n\u001b[1;32m    609\u001b[0m \u001b[0;34m\u001b[0m\u001b[0m\n\u001b[1;32m    610\u001b[0m     \u001b[0;32mwith\u001b[0m \u001b[0mparser\u001b[0m\u001b[0;34m:\u001b[0m\u001b[0;34m\u001b[0m\u001b[0;34m\u001b[0m\u001b[0m\n\u001b[0;32m--> 611\u001b[0;31m         \u001b[0;32mreturn\u001b[0m \u001b[0mparser\u001b[0m\u001b[0;34m.\u001b[0m\u001b[0mread\u001b[0m\u001b[0;34m(\u001b[0m\u001b[0mnrows\u001b[0m\u001b[0;34m)\u001b[0m\u001b[0;34m\u001b[0m\u001b[0;34m\u001b[0m\u001b[0m\n\u001b[0m\u001b[1;32m    612\u001b[0m \u001b[0;34m\u001b[0m\u001b[0m\n\u001b[1;32m    613\u001b[0m \u001b[0;34m\u001b[0m\u001b[0m\n",
            "\u001b[0;32m/usr/local/lib/python3.10/dist-packages/pandas/io/parsers/readers.py\u001b[0m in \u001b[0;36mread\u001b[0;34m(self, nrows)\u001b[0m\n\u001b[1;32m   1776\u001b[0m                     \u001b[0mcolumns\u001b[0m\u001b[0;34m,\u001b[0m\u001b[0;34m\u001b[0m\u001b[0;34m\u001b[0m\u001b[0m\n\u001b[1;32m   1777\u001b[0m                     \u001b[0mcol_dict\u001b[0m\u001b[0;34m,\u001b[0m\u001b[0;34m\u001b[0m\u001b[0;34m\u001b[0m\u001b[0m\n\u001b[0;32m-> 1778\u001b[0;31m                 \u001b[0;34m)\u001b[0m \u001b[0;34m=\u001b[0m \u001b[0mself\u001b[0m\u001b[0;34m.\u001b[0m\u001b[0m_engine\u001b[0m\u001b[0;34m.\u001b[0m\u001b[0mread\u001b[0m\u001b[0;34m(\u001b[0m  \u001b[0;31m# type: ignore[attr-defined]\u001b[0m\u001b[0;34m\u001b[0m\u001b[0;34m\u001b[0m\u001b[0m\n\u001b[0m\u001b[1;32m   1779\u001b[0m                     \u001b[0mnrows\u001b[0m\u001b[0;34m\u001b[0m\u001b[0;34m\u001b[0m\u001b[0m\n\u001b[1;32m   1780\u001b[0m                 )\n",
            "\u001b[0;32m/usr/local/lib/python3.10/dist-packages/pandas/io/parsers/c_parser_wrapper.py\u001b[0m in \u001b[0;36mread\u001b[0;34m(self, nrows)\u001b[0m\n\u001b[1;32m    228\u001b[0m         \u001b[0;32mtry\u001b[0m\u001b[0;34m:\u001b[0m\u001b[0;34m\u001b[0m\u001b[0;34m\u001b[0m\u001b[0m\n\u001b[1;32m    229\u001b[0m             \u001b[0;32mif\u001b[0m \u001b[0mself\u001b[0m\u001b[0;34m.\u001b[0m\u001b[0mlow_memory\u001b[0m\u001b[0;34m:\u001b[0m\u001b[0;34m\u001b[0m\u001b[0;34m\u001b[0m\u001b[0m\n\u001b[0;32m--> 230\u001b[0;31m                 \u001b[0mchunks\u001b[0m \u001b[0;34m=\u001b[0m \u001b[0mself\u001b[0m\u001b[0;34m.\u001b[0m\u001b[0m_reader\u001b[0m\u001b[0;34m.\u001b[0m\u001b[0mread_low_memory\u001b[0m\u001b[0;34m(\u001b[0m\u001b[0mnrows\u001b[0m\u001b[0;34m)\u001b[0m\u001b[0;34m\u001b[0m\u001b[0;34m\u001b[0m\u001b[0m\n\u001b[0m\u001b[1;32m    231\u001b[0m                 \u001b[0;31m# destructive to chunks\u001b[0m\u001b[0;34m\u001b[0m\u001b[0;34m\u001b[0m\u001b[0m\n\u001b[1;32m    232\u001b[0m                 \u001b[0mdata\u001b[0m \u001b[0;34m=\u001b[0m \u001b[0m_concatenate_chunks\u001b[0m\u001b[0;34m(\u001b[0m\u001b[0mchunks\u001b[0m\u001b[0;34m)\u001b[0m\u001b[0;34m\u001b[0m\u001b[0;34m\u001b[0m\u001b[0m\n",
            "\u001b[0;32m/usr/local/lib/python3.10/dist-packages/pandas/_libs/parsers.pyx\u001b[0m in \u001b[0;36mpandas._libs.parsers.TextReader.read_low_memory\u001b[0;34m()\u001b[0m\n",
            "\u001b[0;32m/usr/local/lib/python3.10/dist-packages/pandas/_libs/parsers.pyx\u001b[0m in \u001b[0;36mpandas._libs.parsers.TextReader._read_rows\u001b[0;34m()\u001b[0m\n",
            "\u001b[0;32m/usr/local/lib/python3.10/dist-packages/pandas/_libs/parsers.pyx\u001b[0m in \u001b[0;36mpandas._libs.parsers.TextReader._tokenize_rows\u001b[0;34m()\u001b[0m\n",
            "\u001b[0;32m/usr/local/lib/python3.10/dist-packages/pandas/_libs/parsers.pyx\u001b[0m in \u001b[0;36mpandas._libs.parsers.raise_parser_error\u001b[0;34m()\u001b[0m\n",
            "\u001b[0;31mParserError\u001b[0m: Error tokenizing data. C error: Expected 1 fields in line 4, saw 25\n"
          ]
        }
      ],
      "source": [
        "import pandas as pd\n",
        "\n",
        "# Specify the file path\n",
        "file_path = 'export-bordeaux202401.csv'\n",
        "\n",
        "# Read the first few lines of the CSV file\n",
        "with open(file_path, 'r') as file:\n",
        "    for _ in range(5):  # Read the first 5 lines\n",
        "        print(file.readline())\n",
        "\n",
        "# Read the CSV file with comma as the delimiter\n",
        "df = pd.read_csv(file_path, sep=',')\n",
        "\n",
        "# Display the first few rows of the DataFrame\n",
        "print(df.head())"
      ]
    },
    {
      "cell_type": "code",
      "source": [
        "import pandas as pd\n",
        "\n",
        "# Specify the file path to your CSV file\n",
        "file_path = 'export-bordeaux202401.csv'\n",
        "\n",
        "# Define column names based on the provided sample data\n",
        "column_names = [\n",
        "    'DATE', 'MAX_TEMPERATURE_C', 'MIN_TEMPERATURE_C', 'WINDSPEED_MAX_KMH',\n",
        "    'TEMPERATURE_MORNING_C', 'TEMPERATURE_NOON_C', 'TEMPERATURE_EVENING_C',\n",
        "    'PRECIP_TOTAL_DAY_MM', 'HUMIDITY_MAX_PERCENT', 'VISIBILITY_AVG_KM',\n",
        "    'PRESSURE_MAX_MB', 'CLOUDCOVER_AVG_PERCENT', 'HEATINDEX_MAX_C',\n",
        "    'DEWPOINT_MAX_C', 'WINDTEMP_MAX_C', 'WEATHER_CODE_MORNING',\n",
        "    'WEATHER_CODE_NOON', 'WEATHER_CODE_EVENING', 'TOTAL_SNOW_MM', 'UV_INDEX',\n",
        "    'SUNHOUR', 'OPINION', 'SUNSET', 'SUNRISE', 'TEMPERATURE_NIGHT_C'\n",
        "]\n",
        "\n",
        "# Read the CSV file, skipping the comment lines and specifying column names\n",
        "df = pd.read_csv(file_path, skiprows=3, names=column_names)\n",
        "\n",
        "# Display the first few rows of the DataFrame\n",
        "print(df.head())\n"
      ],
      "metadata": {
        "colab": {
          "base_uri": "https://localhost:8080/"
        },
        "id": "1mIqkIyCCei6",
        "outputId": "f6dcc9a4-1291-4134-9400-5ebb1f673552"
      },
      "execution_count": 3,
      "outputs": [
        {
          "output_type": "stream",
          "name": "stdout",
          "text": [
            "         DATE  MAX_TEMPERATURE_C  MIN_TEMPERATURE_C  WINDSPEED_MAX_KMH  \\\n",
            "0        DATE  MAX_TEMPERATURE_C  MIN_TEMPERATURE_C  WINDSPEED_MAX_KMH   \n",
            "1  2024-01-01                  9                  6                 10   \n",
            "2  2024-01-02                 11                  6                 20   \n",
            "3  2024-01-03                 13                  9                 23   \n",
            "4  2024-01-04                 12                  7                 15   \n",
            "\n",
            "   TEMPERATURE_MORNING_C  TEMPERATURE_NOON_C  TEMPERATURE_EVENING_C  \\\n",
            "0  TEMPERATURE_MORNING_C  TEMPERATURE_NOON_C  TEMPERATURE_EVENING_C   \n",
            "1                      7                   8                      8   \n",
            "2                      7                   9                     10   \n",
            "3                     10                  12                     11   \n",
            "4                      7                  11                      9   \n",
            "\n",
            "   PRECIP_TOTAL_DAY_MM  HUMIDITY_MAX_PERCENT  VISIBILITY_AVG_KM  ...  \\\n",
            "0  PRECIP_TOTAL_DAY_MM  HUMIDITY_MAX_PERCENT  VISIBILITY_AVG_KM  ...   \n",
            "1                  0.4                    95                  7  ...   \n",
            "2                  0.4                    79                  9  ...   \n",
            "3                  0.1                    97                7.5  ...   \n",
            "4                  0.1                    98               5.25  ...   \n",
            "\n",
            "   WEATHER_CODE_MORNING  WEATHER_CODE_NOON  WEATHER_CODE_EVENING  \\\n",
            "0  WEATHER_CODE_MORNING  WEATHER_CODE_NOON  WEATHER_CODE_EVENING   \n",
            "1                   176                143                   116   \n",
            "2                   176                116                   266   \n",
            "3                   248                176                   116   \n",
            "4                   248                113                   116   \n",
            "\n",
            "   TOTAL_SNOW_MM  UV_INDEX  SUNHOUR            OPINION    SUNSET   SUNRISE  \\\n",
            "0  TOTAL_SNOW_MM  UV_INDEX  SUNHOUR            OPINION    SUNSET   SUNRISE   \n",
            "1              0         2        1  météo défavorable  17:32:00  08:40:00   \n",
            "2              0         2        7  météo défavorable  17:33:00  08:40:00   \n",
            "3              0         3        6  météo défavorable  17:34:00  08:40:00   \n",
            "4              0         2        7  météo défavorable  17:35:00  08:40:00   \n",
            "\n",
            "   TEMPERATURE_NIGHT_C  \n",
            "0  TEMPERATURE_NIGHT_C  \n",
            "1                    6  \n",
            "2                    8  \n",
            "3                   12  \n",
            "4                    8  \n",
            "\n",
            "[5 rows x 25 columns]\n"
          ]
        }
      ]
    },
    {
      "cell_type": "code",
      "source": [
        "import pandas as pd\n",
        "\n",
        "# Specify the file path to your CSV file\n",
        "file_path = 'export-bordeaux202401.csv'\n",
        "\n",
        "# Define column names based on the provided sample data\n",
        "column_names = [\n",
        "    'DATE', 'MAX_TEMPERATURE_C', 'MIN_TEMPERATURE_C'\n",
        "]\n",
        "\n",
        "# Read only the specified columns from the CSV file\n",
        "df = pd.read_csv(file_path, skiprows=3, usecols=column_names, names=column_names)\n",
        "\n",
        "# Display the first few rows of the DataFrame\n",
        "print(df.head())\n"
      ],
      "metadata": {
        "colab": {
          "base_uri": "https://localhost:8080/"
        },
        "id": "XRO4lzOdC4LS",
        "outputId": "eab92b45-582e-4806-ef37-7307185bbe42"
      },
      "execution_count": 4,
      "outputs": [
        {
          "output_type": "stream",
          "name": "stdout",
          "text": [
            "         DATE  MAX_TEMPERATURE_C  MIN_TEMPERATURE_C\n",
            "0        DATE  MAX_TEMPERATURE_C  MIN_TEMPERATURE_C\n",
            "1  2024-01-01                  9                  6\n",
            "2  2024-01-02                 11                  6\n",
            "3  2024-01-03                 13                  9\n",
            "4  2024-01-04                 12                  7\n"
          ]
        }
      ]
    },
    {
      "cell_type": "code",
      "source": [
        "import pandas as pd\n",
        "\n",
        "# Specify the file path to your CSV file\n",
        "file_path = 'export-bordeaux202401.csv'\n",
        "\n",
        "# Define column names based on the provided sample data\n",
        "column_names = [\n",
        "    'DATE', 'MAX_TEMPERATURE_C', 'MIN_TEMPERATURE_C'\n",
        "]\n",
        "\n",
        "# Read only the specified columns from the CSV file\n",
        "df = pd.read_csv(file_path, skiprows=3, usecols=column_names, names=column_names)\n",
        "\n",
        "# Exclude the first element (column name) from each column\n",
        "for col in df.columns:\n",
        "    df[col] = df[col].iloc[1:]\n",
        "\n",
        "# Convert the DataFrame to a dictionary without column names as keys\n",
        "data_dict = df.to_dict(orient='list')\n",
        "\n",
        "# Display the first few elements of the dictionary\n",
        "print(data_dict)\n",
        "\n"
      ],
      "metadata": {
        "colab": {
          "base_uri": "https://localhost:8080/"
        },
        "id": "RH1rg8fZDHfE",
        "outputId": "ab5ce348-3dcb-4de0-a1cc-7207d64c7521"
      },
      "execution_count": 7,
      "outputs": [
        {
          "output_type": "stream",
          "name": "stdout",
          "text": [
            "{'DATE': [nan, '2024-01-01', '2024-01-02', '2024-01-03', '2024-01-04', '2024-01-05', '2024-01-06', '2024-01-07', '2024-01-08', '2024-01-09', '2024-01-10', '2024-01-11', '2024-01-12', '2024-01-13', '2024-01-14', '2024-01-15', '2024-01-16', '2024-01-17', '2024-01-18', '2024-01-19', '2024-01-20', '2024-01-21', '2024-01-22', '2024-01-23', '2024-01-24', '2024-01-25', '2024-01-26', '2024-01-27', '2024-01-28', '2024-01-29', '2024-01-30', '2024-01-31'], 'MAX_TEMPERATURE_C': [nan, '9', '11', '13', '12', '10', '8', '6', '4', '4', '3', '4', '5', '8', '10', '8', '10', '13', '13', '5', '6', '6', '10', '13', '13', '16', '13', '16', '15', '15', '15', '16'], 'MIN_TEMPERATURE_C': [nan, '6', '6', '9', '7', '6', '3', '3', '-2', '-3', '0', '2', '1', '0', '3', '5', '4', '11', '3', '0', '-2', '0', '3', '6', '11', '9', '7', '8', '8', '8', '8', '8']}\n"
          ]
        }
      ]
    },
    {
      "cell_type": "code",
      "source": [
        "import pandas as pd\n",
        "\n",
        "# Specify the file path to your CSV file\n",
        "file_path = 'export-bordeaux202401.csv'\n",
        "\n",
        "# Define column names based on the provided sample data\n",
        "column_names = [\n",
        "    'DATE', 'MAX_TEMPERATURE_C', 'MIN_TEMPERATURE_C'\n",
        "]\n",
        "\n",
        "# Read only the specified columns from the CSV file\n",
        "df = pd.read_csv(file_path, skiprows=3, usecols=column_names, names=column_names)\n",
        "\n",
        "# Exclude the first element (column name) from each column\n",
        "for col in df.columns:\n",
        "    df[col] = df[col].iloc[1:]\n",
        "\n",
        "# Drop the first row (index 0) from the DataFrame\n",
        "df = df.drop(index=0)\n",
        "\n",
        "# Convert the DataFrame to a dictionary without column names as keys\n",
        "data_dict = df.to_dict(orient='list')\n",
        "\n",
        "# Display the first few elements of the dictionary\n",
        "print(data_dict)\n"
      ],
      "metadata": {
        "colab": {
          "base_uri": "https://localhost:8080/"
        },
        "id": "0yIIpMfLD020",
        "outputId": "88e2d405-e5c0-4ea4-f83f-bc7551220112"
      },
      "execution_count": 8,
      "outputs": [
        {
          "output_type": "stream",
          "name": "stdout",
          "text": [
            "{'DATE': ['2024-01-01', '2024-01-02', '2024-01-03', '2024-01-04', '2024-01-05', '2024-01-06', '2024-01-07', '2024-01-08', '2024-01-09', '2024-01-10', '2024-01-11', '2024-01-12', '2024-01-13', '2024-01-14', '2024-01-15', '2024-01-16', '2024-01-17', '2024-01-18', '2024-01-19', '2024-01-20', '2024-01-21', '2024-01-22', '2024-01-23', '2024-01-24', '2024-01-25', '2024-01-26', '2024-01-27', '2024-01-28', '2024-01-29', '2024-01-30', '2024-01-31'], 'MAX_TEMPERATURE_C': ['9', '11', '13', '12', '10', '8', '6', '4', '4', '3', '4', '5', '8', '10', '8', '10', '13', '13', '5', '6', '6', '10', '13', '13', '16', '13', '16', '15', '15', '15', '16'], 'MIN_TEMPERATURE_C': ['6', '6', '9', '7', '6', '3', '3', '-2', '-3', '0', '2', '1', '0', '3', '5', '4', '11', '3', '0', '-2', '0', '3', '6', '11', '9', '7', '8', '8', '8', '8', '8']}\n"
          ]
        }
      ]
    },
    {
      "cell_type": "code",
      "source": [
        "data_dict['DATE']"
      ],
      "metadata": {
        "colab": {
          "base_uri": "https://localhost:8080/"
        },
        "id": "g2YrhtpVD-70",
        "outputId": "a82ae518-ae12-421d-d28e-3bb8bef0b43f"
      },
      "execution_count": 10,
      "outputs": [
        {
          "output_type": "execute_result",
          "data": {
            "text/plain": [
              "['2024-01-01',\n",
              " '2024-01-02',\n",
              " '2024-01-03',\n",
              " '2024-01-04',\n",
              " '2024-01-05',\n",
              " '2024-01-06',\n",
              " '2024-01-07',\n",
              " '2024-01-08',\n",
              " '2024-01-09',\n",
              " '2024-01-10',\n",
              " '2024-01-11',\n",
              " '2024-01-12',\n",
              " '2024-01-13',\n",
              " '2024-01-14',\n",
              " '2024-01-15',\n",
              " '2024-01-16',\n",
              " '2024-01-17',\n",
              " '2024-01-18',\n",
              " '2024-01-19',\n",
              " '2024-01-20',\n",
              " '2024-01-21',\n",
              " '2024-01-22',\n",
              " '2024-01-23',\n",
              " '2024-01-24',\n",
              " '2024-01-25',\n",
              " '2024-01-26',\n",
              " '2024-01-27',\n",
              " '2024-01-28',\n",
              " '2024-01-29',\n",
              " '2024-01-30',\n",
              " '2024-01-31']"
            ]
          },
          "metadata": {},
          "execution_count": 10
        }
      ]
    },
    {
      "cell_type": "code",
      "source": [
        "# Convert 'DATE' column to datetime type\n",
        "df['DATE'] = pd.to_datetime(df['DATE'])\n",
        "\n",
        "# Set 'DATE' column as the index of the DataFrame\n",
        "df.set_index('DATE', inplace=True)"
      ],
      "metadata": {
        "id": "BiI7to7mEmNV"
      },
      "execution_count": null,
      "outputs": []
    },
    {
      "cell_type": "code",
      "source": [
        "# Specify the date you want to retrieve the temperature for\n",
        "specified_date = '2024-01-09'\n",
        "\n",
        "# Retrieve the maximum and minimum temperature for the specified date\n",
        "max_temperature = df.loc[specified_date, 'MAX_TEMPERATURE_C']\n",
        "min_temperature = df.loc[specified_date, 'MIN_TEMPERATURE_C']\n",
        "\n",
        "# Print the results\n",
        "print(f\"On {specified_date}:\")\n",
        "print(f\"Maximum temperature: {max_temperature}°C\")\n",
        "print(f\"Minimum temperature: {min_temperature}°C\")"
      ],
      "metadata": {
        "colab": {
          "base_uri": "https://localhost:8080/"
        },
        "id": "213sbnnjFTD1",
        "outputId": "15038b38-2761-4bda-9467-6d4ce696d507"
      },
      "execution_count": 20,
      "outputs": [
        {
          "output_type": "stream",
          "name": "stdout",
          "text": [
            "On 2024-01-09:\n",
            "Maximum temperature: 4°C\n",
            "Minimum temperature: -3°C\n"
          ]
        }
      ]
    }
  ]
}